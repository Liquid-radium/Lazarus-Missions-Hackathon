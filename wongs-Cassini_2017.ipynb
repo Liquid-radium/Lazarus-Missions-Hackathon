{
 "cells": [
  {
   "cell_type": "code",
   "execution_count": null,
   "metadata": {
    "_cell_guid": "b1076dfc-b9ad-4769-8c92-a6c4dae69d19",
    "_uuid": "8f2839f25d086af736a60e9eeb907d3b93b6e0e5",
    "execution": {
     "iopub.execute_input": "2025-03-03T17:17:23.686850Z",
     "iopub.status.busy": "2025-03-03T17:17:23.686465Z",
     "iopub.status.idle": "2025-03-03T17:17:24.582804Z",
     "shell.execute_reply": "2025-03-03T17:17:24.581730Z",
     "shell.execute_reply.started": "2025-03-03T17:17:23.686819Z"
    },
    "id": "lX_4cjUb15hN"
   },
   "outputs": [],
   "source": [
    "import pandas as pd\n",
    "import numpy as np\n",
    "import seaborn as sns\n",
    "import matplotlib.pyplot as plt\n",
    "\n",
    "from sklearn.model_selection import train_test_split\n",
    "from sklearn.preprocessing import StandardScaler, LabelEncoder\n",
    "from sklearn.impute import SimpleImputer\n",
    "from sklearn.ensemble import RandomForestClassifier\n",
    "from sklearn.metrics import f1_score\n",
    "import xgboost as xgb\n"
   ]
  },
  {
   "cell_type": "code",
   "execution_count": null,
   "metadata": {
    "execution": {
     "iopub.execute_input": "2025-03-03T15:01:12.565642Z",
     "iopub.status.busy": "2025-03-03T15:01:12.565115Z",
     "iopub.status.idle": "2025-03-03T15:01:12.737034Z",
     "shell.execute_reply": "2025-03-03T15:01:12.735789Z",
     "shell.execute_reply.started": "2025-03-03T15:01:12.565612Z"
    },
    "id": "UWWdKQ6o15hR",
    "outputId": "c6eeeb62-2f91-457d-eb06-9f7dd0b4252b"
   },
   "outputs": [
    {
     "name": "stdout",
     "output_type": "stream",
     "text": [
      "Available files: ['sample_submission.csv', 'train.csv', 'test.csv']\n",
      "   ID  Gravitational Flux  Dark Matter Density  Quantum Variance  \\\n",
      "0   0            0.411568           -13.761699          0.962127   \n",
      "1   1            0.372928           -66.702856         -3.110865   \n",
      "2   2            0.475778          -184.794916         -1.783947   \n",
      "3   3           -0.569379          -260.749026         -1.582171   \n",
      "4   4           -0.068484           572.566093          2.819685   \n",
      "\n",
      "   Space-Time Curvature  Neutrino Activity  Hawking Radiation  \\\n",
      "0              0.018980           4.670974          -0.041122   \n",
      "1              0.071914          19.835546          -0.214718   \n",
      "2             -0.082711          28.923294          -0.239985   \n",
      "3              0.062023           2.577614          -0.032810   \n",
      "4             -0.159080         -23.035645           0.077040   \n",
      "\n",
      "   Magnetar Field Strength  Cosmic Drift  Event Horizon Stability  ...  \\\n",
      "0                -0.305560      0.084127                -0.007814  ...   \n",
      "1                 1.188694     -0.147345                 0.027881  ...   \n",
      "2                -0.122818     -0.082816                -0.027941  ...   \n",
      "3                 0.051298     -0.052117                -0.063463  ...   \n",
      "4                -0.340597      0.101271                 0.113452  ...   \n",
      "\n",
      "   Vacuum Energy Density  Hyperdimensional Gravity  \\\n",
      "0               0.100177                -52.380068   \n",
      "1               0.072543              -2969.343771   \n",
      "2               0.026329               4527.147343   \n",
      "3              -0.010058               -725.314441   \n",
      "4              -0.040841               2807.582269   \n",
      "\n",
      "   Chrono-Spatial Coordinates  Space Fabric Tension  \\\n",
      "0                   -0.033100             -0.337677   \n",
      "1                    0.274627             -0.572484   \n",
      "2                    0.078815             -0.330429   \n",
      "3                    0.073124             -0.059511   \n",
      "4                   -0.142845              0.204459   \n",
      "\n",
      "   Stellar Neutron Alignment  Astrophysical Stability Index  \\\n",
      "0                  -0.003784                      -0.114528   \n",
      "1                  -0.132527                      -0.341237   \n",
      "2                   0.075319                      -0.196706   \n",
      "3                   0.009470                      -0.189062   \n",
      "4                   0.055341                       0.019932   \n",
      "\n",
      "   Void Instability Factor  Celestial Anomaly Frequency  \\\n",
      "0                 0.000538                    -0.257208   \n",
      "1                 0.061968                     0.477470   \n",
      "2                 0.012656                    -0.259001   \n",
      "3                -0.009478                    -0.174416   \n",
      "4                -0.009519                    -0.152639   \n",
      "\n",
      "   Dark Energy Variability  Wormhole Stability  \n",
      "0                 0.557689                Fail  \n",
      "1                 1.332722                Fail  \n",
      "2                 0.642207                Fail  \n",
      "3                 0.146285                Fail  \n",
      "4                -0.474813                Fail  \n",
      "\n",
      "[5 rows x 38 columns]\n",
      "<class 'pandas.core.frame.DataFrame'>\n",
      "RangeIndex: 5200 entries, 0 to 5199\n",
      "Data columns (total 38 columns):\n",
      " #   Column                          Non-Null Count  Dtype  \n",
      "---  ------                          --------------  -----  \n",
      " 0   ID                              5200 non-null   int64  \n",
      " 1   Gravitational Flux              5083 non-null   float64\n",
      " 2   Dark Matter Density             4786 non-null   float64\n",
      " 3   Quantum Variance                5127 non-null   float64\n",
      " 4   Space-Time Curvature            5200 non-null   float64\n",
      " 5   Neutrino Activity               5105 non-null   float64\n",
      " 6   Hawking Radiation               5200 non-null   float64\n",
      " 7   Magnetar Field Strength         5200 non-null   float64\n",
      " 8   Cosmic Drift                    5200 non-null   float64\n",
      " 9   Event Horizon Stability         5200 non-null   float64\n",
      " 10  Tachyon Flux                    5105 non-null   float64\n",
      " 11  Wormhole Entropy                5200 non-null   float64\n",
      " 12  Dimensional Shift               5200 non-null   float64\n",
      " 13  Singularity Depth               5105 non-null   float64\n",
      " 14  Photon Rebound Index            5200 non-null   float64\n",
      " 15  Temporal Distortion             5200 non-null   float64\n",
      " 16  Interstellar Wind Velocity      5070 non-null   float64\n",
      " 17  Gamma Ray Intensity             5200 non-null   float64\n",
      " 18  Plasma Density                  2923 non-null   float64\n",
      " 19  Quantum Foam Density            5200 non-null   float64\n",
      " 20  Exotic Matter Stability         5105 non-null   float64\n",
      " 21  Zero-Point Energy Field         5200 non-null   float64\n",
      " 22  Multiverse Leakage              5200 non-null   float64\n",
      " 23  Subspace Fluctuations           5200 non-null   float64\n",
      " 24  Entropy Gradient                5200 non-null   float64\n",
      " 25  Black Hole Spin Factor          5200 non-null   float64\n",
      " 26  Orbital Resonance               5200 non-null   float64\n",
      " 27  Quantum Superposition Strength  4958 non-null   float64\n",
      " 28  Vacuum Energy Density           5200 non-null   float64\n",
      " 29  Hyperdimensional Gravity        4958 non-null   float64\n",
      " 30  Chrono-Spatial Coordinates      5200 non-null   float64\n",
      " 31  Space Fabric Tension            5200 non-null   float64\n",
      " 32  Stellar Neutron Alignment       5200 non-null   float64\n",
      " 33  Astrophysical Stability Index   5200 non-null   float64\n",
      " 34  Void Instability Factor         5200 non-null   float64\n",
      " 35  Celestial Anomaly Frequency     5200 non-null   float64\n",
      " 36  Dark Energy Variability         5200 non-null   float64\n",
      " 37  Wormhole Stability              5200 non-null   object \n",
      "dtypes: float64(36), int64(1), object(1)\n",
      "memory usage: 1.5+ MB\n",
      "None\n",
      "<class 'pandas.core.frame.DataFrame'>\n",
      "RangeIndex: 1300 entries, 0 to 1299\n",
      "Data columns (total 37 columns):\n",
      " #   Column                          Non-Null Count  Dtype  \n",
      "---  ------                          --------------  -----  \n",
      " 0   ID                              1300 non-null   int64  \n",
      " 1   Gravitational Flux              1278 non-null   float64\n",
      " 2   Dark Matter Density             1138 non-null   float64\n",
      " 3   Quantum Variance                1289 non-null   float64\n",
      " 4   Space-Time Curvature            1300 non-null   float64\n",
      " 5   Neutrino Activity               1261 non-null   float64\n",
      " 6   Hawking Radiation               1300 non-null   float64\n",
      " 7   Magnetar Field Strength         1300 non-null   float64\n",
      " 8   Cosmic Drift                    1300 non-null   float64\n",
      " 9   Event Horizon Stability         1300 non-null   float64\n",
      " 10  Tachyon Flux                    1261 non-null   float64\n",
      " 11  Wormhole Entropy                1300 non-null   float64\n",
      " 12  Dimensional Shift               1300 non-null   float64\n",
      " 13  Singularity Depth               1261 non-null   float64\n",
      " 14  Photon Rebound Index            1300 non-null   float64\n",
      " 15  Temporal Distortion             1300 non-null   float64\n",
      " 16  Interstellar Wind Velocity      1194 non-null   float64\n",
      " 17  Gamma Ray Intensity             1300 non-null   float64\n",
      " 18  Plasma Density                  721 non-null    float64\n",
      " 19  Quantum Foam Density            1300 non-null   float64\n",
      " 20  Exotic Matter Stability         1261 non-null   float64\n",
      " 21  Zero-Point Energy Field         1300 non-null   float64\n",
      " 22  Multiverse Leakage              1300 non-null   float64\n",
      " 23  Subspace Fluctuations           1300 non-null   float64\n",
      " 24  Entropy Gradient                1300 non-null   float64\n",
      " 25  Black Hole Spin Factor          1300 non-null   float64\n",
      " 26  Orbital Resonance               1300 non-null   float64\n",
      " 27  Quantum Superposition Strength  1230 non-null   float64\n",
      " 28  Vacuum Energy Density           1300 non-null   float64\n",
      " 29  Hyperdimensional Gravity        1230 non-null   float64\n",
      " 30  Chrono-Spatial Coordinates      1300 non-null   float64\n",
      " 31  Space Fabric Tension            1300 non-null   float64\n",
      " 32  Stellar Neutron Alignment       1300 non-null   float64\n",
      " 33  Astrophysical Stability Index   1300 non-null   float64\n",
      " 34  Void Instability Factor         1300 non-null   float64\n",
      " 35  Celestial Anomaly Frequency     1300 non-null   float64\n",
      " 36  Dark Energy Variability         1300 non-null   float64\n",
      "dtypes: float64(36), int64(1)\n",
      "memory usage: 375.9 KB\n",
      "None\n",
      "3875 missing values in train\n",
      "1176 missing values in test\n"
     ]
    }
   ],
   "source": [
    "import os\n",
    "import pandas as pd\n",
    "\n",
    "input_dir = \"/kaggle/input/wormhole-stability\"\n",
    "print(\"Available files:\", os.listdir(input_dir))\n",
    "\n",
    "train_df = pd.read_csv(f\"{input_dir}/train.csv\")\n",
    "test_df = pd.read_csv(f\"{input_dir}/test.csv\")\n",
    "sample_submission = pd.read_csv(f\"{input_dir}/sample_submission.csv\")\n",
    "\n",
    "print(train_df.head())\n",
    "\n",
    "# Display dataset information\n",
    "print(train_df.info())\n",
    "print(test_df.info())\n",
    "\n",
    "# Check missing values\n",
    "print(train_df.isnull().sum().sum(), \"missing values in train\")\n",
    "print(test_df.isnull().sum().sum(), \"missing values in test\")\n"
   ]
  },
  {
   "cell_type": "code",
   "execution_count": null,
   "metadata": {
    "id": "guDTT8d115hU"
   },
   "outputs": [],
   "source": []
  },
  {
   "cell_type": "code",
   "execution_count": null,
   "metadata": {
    "execution": {
     "iopub.execute_input": "2025-03-03T15:01:12.739561Z",
     "iopub.status.busy": "2025-03-03T15:01:12.739189Z",
     "iopub.status.idle": "2025-03-03T15:01:12.776141Z",
     "shell.execute_reply": "2025-03-03T15:01:12.775216Z",
     "shell.execute_reply.started": "2025-03-03T15:01:12.739526Z"
    },
    "id": "c8Vvs_Fw15hU",
    "outputId": "76a531a9-71ba-4d03-fc1e-0a65bc91c76e"
   },
   "outputs": [
    {
     "name": "stdout",
     "output_type": "stream",
     "text": [
      "Missing values handled successfully\n"
     ]
    }
   ],
   "source": [
    "import pandas as pd\n",
    "from sklearn.impute import SimpleImputer\n",
    "\n",
    "\n",
    "train_cleaned = train_df.copy()\n",
    "test_cleaned = test_df.copy()\n",
    "\n",
    "# Identify feature columns (excluding 'ID' and 'Wormhole Stability')\n",
    "feature_cols = [col for col in train_cleaned.columns if col not in [\"ID\", \"Wormhole Stability\"]]\n",
    "\n",
    "# Fill missing values with mean\n",
    "imputer = SimpleImputer(strategy=\"mean\")\n",
    "train_cleaned[feature_cols] = imputer.fit_transform(train_cleaned[feature_cols])\n",
    "test_cleaned[feature_cols] = imputer.transform(test_cleaned[feature_cols])\n",
    "\n",
    "print(\"Missing values handled successfully\")\n"
   ]
  },
  {
   "cell_type": "code",
   "execution_count": null,
   "metadata": {
    "execution": {
     "iopub.execute_input": "2025-03-03T15:01:12.777782Z",
     "iopub.status.busy": "2025-03-03T15:01:12.777415Z",
     "iopub.status.idle": "2025-03-03T15:01:12.784750Z",
     "shell.execute_reply": "2025-03-03T15:01:12.783800Z",
     "shell.execute_reply.started": "2025-03-03T15:01:12.777757Z"
    },
    "id": "l2ji3mLV15hV",
    "outputId": "a165cd9c-b10c-4ced-f7f3-00900ec47149"
   },
   "outputs": [
    {
     "name": "stdout",
     "output_type": "stream",
     "text": [
      "Target variable encoded\n"
     ]
    }
   ],
   "source": [
    "# Convert target variable to numeric\n",
    "label_encoder = LabelEncoder()\n",
    "train_cleaned[\"Wormhole Stability\"] = label_encoder.fit_transform(train_cleaned[\"Wormhole Stability\"])\n",
    "\n",
    "print(\"Target variable encoded\")\n"
   ]
  },
  {
   "cell_type": "code",
   "execution_count": null,
   "metadata": {
    "execution": {
     "iopub.execute_input": "2025-03-03T15:01:12.785998Z",
     "iopub.status.busy": "2025-03-03T15:01:12.785728Z",
     "iopub.status.idle": "2025-03-03T15:01:13.287396Z",
     "shell.execute_reply": "2025-03-03T15:01:13.286463Z",
     "shell.execute_reply.started": "2025-03-03T15:01:12.785977Z"
    },
    "id": "0kg3zyGG15hW",
    "outputId": "a8e04a6d-33ff-41e8-e292-c7918ab30650"
   },
   "outputs": [
    {
     "name": "stdout",
     "output_type": "stream",
     "text": [
      "Data balanced successfully\n"
     ]
    }
   ],
   "source": [
    "X = train_cleaned[feature_cols]\n",
    "y = train_cleaned[\"Wormhole Stability\"]\n",
    "from imblearn.over_sampling import SMOTE\n",
    "\n",
    "# Apply SMOTE to balance the dataset\n",
    "smote = SMOTE(random_state=42)\n",
    "X_resampled, y_resampled = smote.fit_resample(X, y)\n",
    "\n",
    "print(\"Data balanced successfully\")\n"
   ]
  },
  {
   "cell_type": "code",
   "execution_count": null,
   "metadata": {
    "execution": {
     "iopub.execute_input": "2025-03-03T15:01:13.289016Z",
     "iopub.status.busy": "2025-03-03T15:01:13.288444Z",
     "iopub.status.idle": "2025-03-03T15:01:13.329557Z",
     "shell.execute_reply": "2025-03-03T15:01:13.328676Z",
     "shell.execute_reply.started": "2025-03-03T15:01:13.288981Z"
    },
    "id": "Rcm6H9M615hY",
    "outputId": "78c141ba-027b-4c9c-d687-76aafc69bf85"
   },
   "outputs": [
    {
     "name": "stdout",
     "output_type": "stream",
     "text": [
      "Feature scaling done\n"
     ]
    }
   ],
   "source": [
    "# Standardize features\n",
    "scaler = StandardScaler()\n",
    "X_resampled = scaler.fit_transform(X_resampled)\n",
    "test_cleaned[feature_cols] = scaler.transform(test_cleaned[feature_cols])\n",
    "\n",
    "print(\"Feature scaling done\")\n"
   ]
  },
  {
   "cell_type": "code",
   "execution_count": null,
   "metadata": {
    "execution": {
     "iopub.execute_input": "2025-03-03T15:01:13.330759Z",
     "iopub.status.busy": "2025-03-03T15:01:13.330462Z",
     "iopub.status.idle": "2025-03-03T15:01:13.338198Z",
     "shell.execute_reply": "2025-03-03T15:01:13.337253Z",
     "shell.execute_reply.started": "2025-03-03T15:01:13.330735Z"
    },
    "id": "X5Hfw_m015hb"
   },
   "outputs": [],
   "source": [
    "X_train, X_val, y_train, y_val = train_test_split(X_resampled, y_resampled, test_size=0.2, random_state=42)\n"
   ]
  },
  {
   "cell_type": "code",
   "execution_count": null,
   "metadata": {
    "execution": {
     "iopub.execute_input": "2025-03-03T15:20:30.694222Z",
     "iopub.status.busy": "2025-03-03T15:20:30.693852Z",
     "iopub.status.idle": "2025-03-03T15:20:35.267514Z",
     "shell.execute_reply": "2025-03-03T15:20:35.265295Z",
     "shell.execute_reply.started": "2025-03-03T15:20:30.694195Z"
    },
    "id": "SqcWRSbF15hc",
    "outputId": "d507cb60-e875-4d1b-9c06-7bd10426f82c"
   },
   "outputs": [
    {
     "name": "stdout",
     "output_type": "stream",
     "text": [
      "F1 Score - Logistic Regression: 0.7730337078651686\n",
      "F1 Score - Random Forest: 0.8925531914893616\n"
     ]
    }
   ],
   "source": [
    "from sklearn.linear_model import LogisticRegression\n",
    "from sklearn.ensemble import RandomForestClassifier\n",
    "\n",
    "log_reg = LogisticRegression()\n",
    "rf= RandomForestClassifier(n_estimators=100, max_depth=10,\n",
    "                                  min_samples_split=5, min_samples_leaf=2,\n",
    "                                  random_state=42)\n",
    "xgb_model = xgb.XGBClassifier(n_estimators=100, use_label_encoder=False, eval_metric=\"logloss\")\n",
    "\n",
    "log_reg.fit(X_train, y_train)\n",
    "rf.fit(X_train, y_train)\n",
    "xgb_model.fit(X_train, y_train)\n",
    "\n",
    "log_reg_pred = log_reg.predict(X_val)\n",
    "rf_pred = rf.predict(X_val)\n",
    "xgb_pred = xgb_model.predict(X_val)\n",
    "\n",
    "# Compute F1 Scores\n",
    "log_reg_f1 = f1_score(y_val, log_reg_pred)\n",
    "rf_f1 = f1_score(y_val, rf_pred)\n",
    "xgb_f1 = f1_score(y_val, xgb_pred)\n",
    "\n",
    "# Print F1 Scores\n",
    "print(f\"F1 Score - Logistic Regression: {log_reg_f1}\")\n",
    "print(f\"F1 Score - Random Forest: {rf_f1}\")\n"
   ]
  },
  {
   "cell_type": "code",
   "execution_count": null,
   "metadata": {
    "id": "gJcRgRdV15hf"
   },
   "outputs": [],
   "source": []
  },
  {
   "cell_type": "code",
   "execution_count": null,
   "metadata": {
    "execution": {
     "iopub.execute_input": "2025-03-03T15:01:20.067668Z",
     "iopub.status.busy": "2025-03-03T15:01:20.067335Z",
     "iopub.status.idle": "2025-03-03T15:01:20.096132Z",
     "shell.execute_reply": "2025-03-03T15:01:20.095348Z",
     "shell.execute_reply.started": "2025-03-03T15:01:20.067643Z"
    },
    "id": "G0cOc0cW15hg",
    "outputId": "81a03bd4-3639-46f8-d4da-327053cefe54"
   },
   "outputs": [
    {
     "name": "stdout",
     "output_type": "stream",
     "text": [
      "XGBoost Training Accuracy: 1.0000\n"
     ]
    }
   ],
   "source": [
    "from sklearn.metrics import accuracy_score\n",
    "\n",
    "train_preds = xgb_model.predict(X_train)\n",
    "\n",
    "# Calculate training accuracy\n",
    "train_accuracy = accuracy_score(y_train, train_preds)\n",
    "\n",
    "print(f\"XGBoost Training Accuracy: {train_accuracy:.4f}\")\n"
   ]
  },
  {
   "cell_type": "code",
   "execution_count": null,
   "metadata": {
    "execution": {
     "iopub.execute_input": "2025-03-03T15:03:07.976822Z",
     "iopub.status.busy": "2025-03-03T15:03:07.976401Z",
     "iopub.status.idle": "2025-03-03T15:03:07.992582Z",
     "shell.execute_reply": "2025-03-03T15:03:07.989306Z",
     "shell.execute_reply.started": "2025-03-03T15:03:07.976795Z"
    },
    "id": "tXMSPpgx15hg",
    "outputId": "5c04a73f-f8f8-4fa9-8e47-b305e9452246"
   },
   "outputs": [
    {
     "name": "stdout",
     "output_type": "stream",
     "text": [
      "XGBoost Validation Accuracy: 0.9467\n"
     ]
    }
   ],
   "source": [
    "from sklearn.metrics import accuracy_score\n",
    "\n",
    "val_preds = xgb_model.predict(X_val)\n",
    "val_accuracy = accuracy_score(y_val, val_preds)\n",
    "\n",
    "print(f\"XGBoost Validation Accuracy: {val_accuracy:.4f}\")\n"
   ]
  },
  {
   "cell_type": "code",
   "execution_count": null,
   "metadata": {
    "id": "2Fq6bTH-15hi"
   },
   "outputs": [],
   "source": []
  },
  {
   "cell_type": "code",
   "execution_count": null,
   "metadata": {
    "execution": {
     "iopub.execute_input": "2025-03-03T15:23:40.146565Z",
     "iopub.status.busy": "2025-03-03T15:23:40.146178Z",
     "iopub.status.idle": "2025-03-03T15:23:48.955066Z",
     "shell.execute_reply": "2025-03-03T15:23:48.953960Z",
     "shell.execute_reply.started": "2025-03-03T15:23:40.146537Z"
    },
    "id": "qDwK5-eT15hi",
    "outputId": "c51f1559-4b0e-4f72-a140-7cf37b54eb50"
   },
   "outputs": [
    {
     "name": "stdout",
     "output_type": "stream",
     "text": [
      "0:\tlearn: 0.6662702\ttest: 0.6684321\tbest: 0.6684321 (0)\ttotal: 97.4ms\tremaining: 1m 37s\n",
      "200:\tlearn: 0.2246878\ttest: 0.2792817\tbest: 0.2792817 (200)\ttotal: 1.61s\tremaining: 6.39s\n",
      "400:\tlearn: 0.1266982\ttest: 0.2083993\tbest: 0.2083993 (400)\ttotal: 3.38s\tremaining: 5.04s\n",
      "600:\tlearn: 0.0777519\ttest: 0.1738090\tbest: 0.1738090 (600)\ttotal: 5.13s\tremaining: 3.4s\n",
      "800:\tlearn: 0.0509133\ttest: 0.1530462\tbest: 0.1530462 (800)\ttotal: 6.63s\tremaining: 1.65s\n",
      "999:\tlearn: 0.0351601\ttest: 0.1400109\tbest: 0.1400109 (999)\ttotal: 8.14s\tremaining: 0us\n",
      "\n",
      "bestTest = 0.1400109033\n",
      "bestIteration = 999\n",
      "\n",
      "CatBoost Validation F1 Score: 0.9480\n"
     ]
    }
   ],
   "source": [
    "from catboost import CatBoostClassifier\n",
    "from sklearn.metrics import f1_score\n",
    "\n",
    "cat_model = CatBoostClassifier(iterations=1000, learning_rate=0.05, depth=6,\n",
    "                               l2_leaf_reg=10, random_seed=42, verbose=200)\n",
    "\n",
    "cat_model.fit(X_train, y_train, eval_set=(X_val, y_val), early_stopping_rounds=50, verbose=200)\n",
    "\n",
    "val_preds_cat = cat_model.predict(X_val)\n",
    "cat_f1 = f1_score(y_val, val_preds_cat, average=\"binary\")\n",
    "\n",
    "print(f\"CatBoost Validation F1 Score: {cat_f1:.4f}\")\n"
   ]
  },
  {
   "cell_type": "code",
   "execution_count": null,
   "metadata": {
    "id": "Qw0ZSEoS15hj"
   },
   "outputs": [],
   "source": []
  },
  {
   "cell_type": "markdown",
   "metadata": {
    "id": "8VzlpYn415hk"
   },
   "source": [
    "# Best submission - CatBoost"
   ]
  },
  {
   "cell_type": "code",
   "execution_count": null,
   "metadata": {
    "execution": {
     "iopub.execute_input": "2025-03-03T17:30:36.086779Z",
     "iopub.status.busy": "2025-03-03T17:30:36.086304Z",
     "iopub.status.idle": "2025-03-03T17:30:52.257266Z",
     "shell.execute_reply": "2025-03-03T17:30:52.256182Z",
     "shell.execute_reply.started": "2025-03-03T17:30:36.086745Z"
    },
    "id": "H28yVqIE15hl",
    "outputId": "7ba68cf0-aaca-4d63-bc89-175c0adf3ebc"
   },
   "outputs": [
    {
     "name": "stdout",
     "output_type": "stream",
     "text": [
      "Submission file 'submission3.csv' created successfully\n",
      "Wormhole Stability\n",
      "Fail       0.762308\n",
      "Success    0.237692\n",
      "Name: proportion, dtype: float64\n"
     ]
    }
   ],
   "source": [
    "import os\n",
    "from catboost import CatBoostClassifier\n",
    "import pandas as pd\n",
    "\n",
    "input_dir = \"/kaggle/input/wormhole-stability\"\n",
    "\n",
    "train_df = pd.read_csv(f\"{input_dir}/train.csv\")\n",
    "test_df = pd.read_csv(f\"{input_dir}/test.csv\")\n",
    "\n",
    "train_df[\"Wormhole Stability\"] = train_df[\"Wormhole Stability\"].map({\"Success\": 1, \"Fail\": 0})\n",
    "\n",
    "X_train = train_df.drop(columns=[\"ID\", \"Wormhole Stability\"])\n",
    "y_train = train_df[\"Wormhole Stability\"]\n",
    "\n",
    "cat_model = CatBoostClassifier(\n",
    "    iterations=1500,\n",
    "    learning_rate=0.04, \n",
    "    depth=7,\n",
    "    l2_leaf_reg=6,\n",
    "    random_seed=42,\n",
    "    loss_function='Logloss',\n",
    "    eval_metric='F1',\n",
    "    auto_class_weights=\"SqrtBalanced\",\n",
    "    verbose=False\n",
    ")\n",
    "\n",
    "cat_model.fit(X_train, y_train, early_stopping_rounds=50, verbose=False)\n",
    "\n",
    "# Ensure test features match train features\n",
    "test_features = test_df.drop(columns=[\"ID\"], errors='ignore')\n",
    "test_features = test_features[X_train.columns] \n",
    "\n",
    "# Predict probabilities instead of direct class labels\n",
    "probs = cat_model.predict_proba(test_features)[:, 1]\n",
    "\n",
    "# Adjust threshold for better balance \n",
    "threshold = 0.35 \n",
    "test_predictions = [\"Success\" if p > threshold else \"Fail\" for p in probs]\n",
    "\n",
    "submission = pd.DataFrame({\n",
    "    \"ID\": test_df[\"ID\"],\n",
    "    \"Wormhole Stability\": test_predictions\n",
    "})\n",
    "\n",
    "submission.to_csv(\"submission3.csv\", index=False)\n",
    "print(\"Submission file 'submission3.csv' created successfully\")\n",
    "\n",
    "print(submission[\"Wormhole Stability\"].value_counts(normalize=True))\n"
   ]
  },
  {
   "cell_type": "code",
   "execution_count": null,
   "metadata": {
    "execution": {
     "iopub.execute_input": "2025-03-03T17:28:08.479341Z",
     "iopub.status.busy": "2025-03-03T17:28:08.478836Z",
     "iopub.status.idle": "2025-03-03T17:28:08.487681Z",
     "shell.execute_reply": "2025-03-03T17:28:08.486342Z",
     "shell.execute_reply.started": "2025-03-03T17:28:08.479306Z"
    },
    "id": "mGapBTRu15hm",
    "outputId": "bfc84286-9665-4c5a-8187-8603eca5e9e9"
   },
   "outputs": [
    {
     "name": "stdout",
     "output_type": "stream",
     "text": [
      "Wormhole Stability\n",
      "0    0.884615\n",
      "1    0.115385\n",
      "Name: proportion, dtype: float64\n"
     ]
    }
   ],
   "source": [
    "print(train_df[\"Wormhole Stability\"].value_counts(normalize=True))\n"
   ]
  }
 ],
 "metadata": {
  "colab": {
   "provenance": []
  },
  "kaggle": {
   "accelerator": "none",
   "dataSources": [
    {
     "datasetId": 6780345,
     "sourceId": 10908156,
     "sourceType": "datasetVersion"
    }
   ],
   "dockerImageVersionId": 30918,
   "isGpuEnabled": false,
   "isInternetEnabled": true,
   "language": "python",
   "sourceType": "notebook"
  },
  "kernelspec": {
   "display_name": "Python 3 (ipykernel)",
   "language": "python",
   "name": "python3"
  },
  "language_info": {
   "codemirror_mode": {
    "name": "ipython",
    "version": 3
   },
   "file_extension": ".py",
   "mimetype": "text/x-python",
   "name": "python",
   "nbconvert_exporter": "python",
   "pygments_lexer": "ipython3",
   "version": "3.10.9"
  }
 },
 "nbformat": 4,
 "nbformat_minor": 1
}
